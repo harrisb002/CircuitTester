{
  "nbformat": 4,
  "nbformat_minor": 0,
  "metadata": {
    "colab": {
      "provenance": [],
      "authorship_tag": "ABX9TyMcP6L/jLBAbDPlbW2IO+Hw",
      "include_colab_link": true
    },
    "kernelspec": {
      "name": "python3",
      "display_name": "Python 3"
    },
    "language_info": {
      "name": "python"
    }
  },
  "cells": [
    {
      "cell_type": "markdown",
      "metadata": {
        "id": "view-in-github",
        "colab_type": "text"
      },
      "source": [
        "<a href=\"https://colab.research.google.com/github/harrisb002/CircuitTester/blob/main/Quiz_4_Review.ipynb\" target=\"_parent\"><img src=\"https://colab.research.google.com/assets/colab-badge.svg\" alt=\"Open In Colab\"/></a>"
      ]
    },
    {
      "cell_type": "markdown",
      "source": [
        "# Problem 1\n",
        "> Design a divide and conquer algorithm NumOnes to solve the following problem:\n",
        "- Given two integers L and R, MaxOnes returns the total number of 1's in the binary representation of all the integers from L to R (both included).\n",
        " - For example, if L = 7 and R = 10, the answer is 3 + 1 + 2 + 2 = 8.\n",
        "\n",
        "Here the divide and conquer works by reducing the problem size in half and makes only one recursive call on the reduced instance (like Quick-select.) Obtain an estimate of the time complexity if L and R are n-bit integers."
      ],
      "metadata": {
        "id": "xvOfU8iZt4WU"
      }
    },
    {
      "cell_type": "markdown",
      "source": [
        "NOTES:\n",
        "- For Counting the ones\n",
        " - Init count = 0.\n",
        " - Loop while num >= 1.\n",
        " - Inside the loop, use the mod to check for odd number, if so inc by 1\n",
        " - Divide num by 2 and repeat\n",
        " - Finanly just return the count.\n",
        "\n",
        "- For Recursion use a Binary search like algo (div & conq)\n",
        " - If Left > Right, return 0.\n",
        " - If Left == Right, return the number of 1's in the binary representation of Left.\n",
        " - Let M be the middle int between Left and Right. Choose Mid as the floor value of (Left+Right)/2 to ensure its an int. (Just like binay search)\n",
        " - Compute the number of 1's for the range[Left, Mid] & [Mid+1, Right] and sum them.\n",
        " - Return the sum."
      ],
      "metadata": {
        "id": "h1u1T2UpvQIF"
      }
    },
    {
      "cell_type": "code",
      "source": [
        "def countOnes(num):\n",
        "    count = 0\n",
        "    while num >= 1:\n",
        "        count += num % 2\n",
        "        num //= 2\n",
        "    return count\n",
        "\n",
        "def NumOnes(Left, Right):\n",
        "    if Left > Right:\n",
        "        return 0\n",
        "    if Left == Right:\n",
        "        return countOnes(Left)\n",
        "    Mid = (Left + Right) // 2\n",
        "    return NumOnes(Left, Mid) + NumOnes(Mid + 1, Right)"
      ],
      "metadata": {
        "id": "0R8Du9EnvNGZ"
      },
      "execution_count": null,
      "outputs": []
    },
    {
      "cell_type": "code",
      "source": [
        "print(NumOnes(9,12))"
      ],
      "metadata": {
        "colab": {
          "base_uri": "https://localhost:8080/"
        },
        "id": "mX7pAvvuy3hJ",
        "outputId": "b6b15a3c-c1bc-407a-e050-77841cb5a897"
      },
      "execution_count": null,
      "outputs": [
        {
          "output_type": "stream",
          "name": "stdout",
          "text": [
            "9\n"
          ]
        }
      ]
    },
    {
      "cell_type": "markdown",
      "source": [
        "**Complexity Analysis:**\n",
        "- countOnes Function:\n",
        " - The countOnes function counts the number of ones in the binary representation of a single integer num.\n",
        " - It uses a loop runs as long as num >= 1 and in each iteration it performs two operations: % 2 and // 2.\n",
        " - The number of iterations is == the number of bits in the binary representation of the input number.\n",
        " - Therefore, the time complexity of the **countOnes function is O(log N)**, where N is the value of the input number num.\n",
        "\n",
        "- NumOnes function splits the range [Left, Right] into two equal subranges, [Left, Mid] and [Mid + 1, Right].\n",
        " - The function makes two rec. calls on these subranges and then sums the results.\n",
        " - The **number of recursive calls is** == to the depth of the recursion tree  which is **O(log N)** where N is the size of the input range (Right - Left + 1).\n",
        " - In each rec. call it also call the countOnes function which takes O(log N) time.\n",
        "\n",
        "**SOLUTION:**\n",
        "```\n",
        "Therefore the overall time complexity is: O(log N) * O(log N) = O((log N)^2).\n",
        "```"
      ],
      "metadata": {
        "id": "rmh8MfZSwULi"
      }
    },
    {
      "cell_type": "markdown",
      "source": [
        "# Problem 2\n",
        "> Show all the steps involved in obtaining the convolution of  x = ⟨1,1,1,0⟩ and y = ⟨1,1,0,0⟩.\n",
        "\n",
        "- First obtain the Fourier transforms of x and y, compute the component-wise product of these vectors, and obtain the inverse Fourier transform."
      ],
      "metadata": {
        "id": "VRUBmL3suJv5"
      }
    },
    {
      "cell_type": "markdown",
      "source": [
        "- **Steps for FT:**\n",
        "1.   Create polynomial using the expression\n",
        "2.   Evaluate at each point (1, i, -1, -i)\n",
        "3.   Results are the FT\n",
        "\n",
        "- **For IFFT:**\n",
        "1.   Take dot product of both FT vectors\n",
        "2.   IFT(v)=1/4<a,d,c,b>. (n=length of vector)\n",
        "\n"
      ],
      "metadata": {
        "id": "0x2Se4e-6kAZ"
      }
    },
    {
      "cell_type": "markdown",
      "source": [
        "- **x = ⟨1,1,1,0⟩** **=> Polynomial Rep: 1 + x + x^2**\n",
        "1. Evaluate at 1:  1 + 1 + 1 = 3    \n",
        "2. Evaluate at i:  1 + i + (-1) = i\n",
        "3. Evaluate at -1: 1 + (-1) + 1 = - 1\n",
        "4. Evaluate at -i: 1 + (-i) + 1 = 2 - i\n",
        "\n",
        "**Result of FT(x) = ⟨ 3, i, -1, 2 - i ⟩**\n",
        "\n",
        "- **y = ⟨1,1,0,0⟩** **=> Polynomial Rep: 1 + x**\n",
        "1. Evaluate at 1:  1 + 1 = 2     \n",
        "2. Evaluate at i:  1 + i\n",
        "3. Evaluate at -1: 1 + (-1) = 0\n",
        "4. Evaluate at -i: 1 - i\n",
        "\n",
        "**Result of FT(y) = ⟨ 2, 1 + i, 0, 1 - i ⟩**"
      ],
      "metadata": {
        "id": "IlHRH_P736jA"
      }
    },
    {
      "cell_type": "markdown",
      "source": [
        "Using the Results above, find the IFFT\n",
        "\n",
        "1.   Dot product of FT(x) · FT(y)\n",
        "- ⟨ 3, i, -1, 2 - i ⟩ · ⟨ 2, 1 + i, 0, 1 - i ⟩ = ⟨ 6, 1 - i, 0, 3 - 3i ⟩\n",
        "\n",
        "2. Now Multiply by 1/n\n",
        "- 1/4 ⟨ 6, 1 - i, 0, 3 - 3i ⟩ = ⟨ 6/4, 1/4 - i/4, 0, 3/4 - 3i/4 ⟩\n",
        "\n",
        "**SOLUTION:**\n",
        "```\n",
        "Results in an IFFT = ⟨ 6/4, (1-i)/4, 0, 3/4 - 3i/4 ⟩\n",
        "```\n",
        "\n"
      ],
      "metadata": {
        "id": "9S_LtMwPbZW_"
      }
    },
    {
      "cell_type": "markdown",
      "source": [
        "# Problem 3\n",
        "> Exhibit the breadth-first spanning tree in the graph shown below if the search starts in vertex 2. Also show DIST, PARENT arrays when the algorithm terminates."
      ],
      "metadata": {
        "id": "dOHXIJ93uKAx"
      }
    },
    {
      "cell_type": "markdown",
      "source": [
        "**Notes from the Book:**\n",
        "\n",
        "- Breadth-first search makes sure to visit vertices in increasing order of their distance from the starting point 's'.\n",
        "- BFS lifts the 's' partitions of the graph into layers:\n",
        " - 's' itself\n",
        " - The nodes at distance 1 from it\n",
        " - The nodes at distance 2 from it and so on.\n",
        "- Compute distances from 's' to the other vertices layer by layer.\n",
        "- Pick out the nodes at distance 0, 1, 2, . . . , d,\n",
        "- The ones at d + 1 are easily determined:\n",
        " - They are precisely the as-yet-unseen nodes that are adjacent to the layer at distance d.\n",
        "- This suggests an iterative algorithm in which two layers are active at any given time:\n",
        " - Some layer d, which has been fully identified, and d + 1, which is being discovered by scanning the neighbors of layer d."
      ],
      "metadata": {
        "id": "p4cIovHTRSYy"
      }
    },
    {
      "cell_type": "markdown",
      "source": [
        "- BFT does exactly what is described above. In synopsis:\n",
        " - Start with queue 'Q' consisting of only of 's'.\n",
        " - For each subsequent distance d = 1, 2, 3, . . ., there is a point in time at which Q contains all the nodes at distance d and nothing else.\n",
        " - As these nodes are processed (ejected off the front of the queue), their as-yet-unseen neighbors are injected into the end of the queue."
      ],
      "metadata": {
        "id": "diNJg47mgXHJ"
      }
    },
    {
      "cell_type": "markdown",
      "source": [
        "# Problem 4\n",
        "> Describe a divide and conquer algorithm that takes as input the image on the left-side and outputs the image on the right side.\n",
        "\n",
        "- You can assume functions for copying one block of image I (input) to a specified region of O (output) array etc."
      ],
      "metadata": {
        "id": "WVjRooCpupts"
      }
    },
    {
      "cell_type": "markdown",
      "source": [
        "**SOLUTION:**\n",
        "None Im sure about...\n",
        "\n",
        "1.   Fibonacci Sequence?\n",
        "2.   Use recursion for x-y axis seprately and merge them together\n",
        "\n"
      ],
      "metadata": {
        "id": "plyQ8XlzeesR"
      }
    }
  ]
}